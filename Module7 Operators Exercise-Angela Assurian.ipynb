{
 "cells": [
  {
   "cell_type": "markdown",
   "metadata": {},
   "source": [
    "### Exercise 1\n",
    "Ask a user to enter a number. If the number is positive, print <b>Positive number</b>. Otherwise, do not print any message. Finally, print 'goodbye' message at the end."
   ]
  },
  {
   "cell_type": "code",
   "execution_count": 7,
   "metadata": {},
   "outputs": [
    {
     "name": "stdout",
     "output_type": "stream",
     "text": [
      "Enter a number:-5\n",
      "Goodbye\n"
     ]
    }
   ],
   "source": [
    "def posNeg():\n",
    "    num1=int(input(\"Enter a number:\"))\n",
    "    if num1>0:\n",
    "        print(\"Positive number\")\n",
    "    print(\"Goodbye\")\n",
    "    return\n",
    "posNeg()"
   ]
  },
  {
   "cell_type": "code",
   "execution_count": 8,
   "metadata": {},
   "outputs": [
    {
     "name": "stdout",
     "output_type": "stream",
     "text": [
      "Enter a number:5\n",
      "Positive number\n",
      "Goodbye\n"
     ]
    }
   ],
   "source": [
    "def posNeg():\n",
    "    num1=int(input(\"Enter a number:\"))\n",
    "    if num1>0:\n",
    "        print(\"Positive number\")\n",
    "    print(\"Goodbye\")\n",
    "    return\n",
    "posNeg()"
   ]
  },
  {
   "cell_type": "code",
   "execution_count": 5,
   "metadata": {},
   "outputs": [
    {
     "name": "stdout",
     "output_type": "stream",
     "text": [
      "Enter a number:10\n",
      "Positive Number\n",
      "Goodbye\n"
     ]
    }
   ],
   "source": [
    "def evenOrOdd():\n",
    "    num1=int(input(\"Enter a number:\"))\n",
    "    if num1%2==0:\n",
    "        print(\"Positive Number\")\n",
    "    print(\"Goodbye\")\n",
    "    return\n",
    "evenOrOdd()"
   ]
  },
  {
   "cell_type": "markdown",
   "metadata": {},
   "source": [
    "### Exercise 2\n",
    "Ask for a code and store that answer. \n",
    "If the answer is grey then print out if you found secret code.\n",
    "Otherwise print out the code is not the secret code."
   ]
  },
  {
   "cell_type": "code",
   "execution_count": 15,
   "metadata": {},
   "outputs": [
    {
     "name": "stdout",
     "output_type": "stream",
     "text": [
      "Enter the code:grey\n",
      "You found the secret code! :)\n"
     ]
    }
   ],
   "source": [
    "def secretCode():\n",
    "    code1=input(\"Enter the code:\")\n",
    "    code=\"grey\"\n",
    "    if code1==code:\n",
    "        print(\"You found the secret code! :)\")\n",
    "    else:\n",
    "        print(\"Code is not the secret code :(\")\n",
    "    return\n",
    "secretCode()        "
   ]
  },
  {
   "cell_type": "code",
   "execution_count": 16,
   "metadata": {},
   "outputs": [
    {
     "name": "stdout",
     "output_type": "stream",
     "text": [
      "Enter the code:lol\n",
      "Code is not the secret code :(\n"
     ]
    }
   ],
   "source": [
    "def secretCode():\n",
    "    code1=input(\"Enter the code:\")\n",
    "    code=\"grey\"\n",
    "    if code1==code:\n",
    "        print(\"You found the secret code! :)\")\n",
    "    else:\n",
    "        print(\"Code is not the secret code :(\")\n",
    "    return\n",
    "secretCode()        "
   ]
  },
  {
   "cell_type": "markdown",
   "metadata": {},
   "source": [
    "### Exercise 3\n",
    "\n",
    "Ask a user to enter a phrase. If the word contains a number, display the \"Number found\" message. Otherwise, show the \"Number not found\" message. "
   ]
  },
  {
   "cell_type": "code",
   "execution_count": 20,
   "metadata": {},
   "outputs": [
    {
     "name": "stdout",
     "output_type": "stream",
     "text": [
      "Enter a phrase:hello\n",
      "Number not found!\n"
     ]
    }
   ],
   "source": [
    "#message.count(“to”) counts the # of times something occurs in string  \n",
    "def numberOrNot():\n",
    "    phrase=input(\"Enter a phrase:\")\n",
    "    if (phrase.count(\"0\"))>0:\n",
    "        print(\"Number found!\")\n",
    "    elif (phrase.count(\"1\"))>0:\n",
    "        print(\"Number found!\")\n",
    "    elif (phrase.count(\"2\"))>0:\n",
    "        print(\"Number found!\")\n",
    "    elif (phrase.count(\"3\"))>0:\n",
    "        print(\"Number found!\")\n",
    "    elif (phrase.count(\"4\"))>0:\n",
    "        print(\"Number found!\")\n",
    "    elif (phrase.count(\"5\"))>0:\n",
    "        print(\"Number found!\")\n",
    "    elif (phrase.count(\"6\"))>0:\n",
    "        print(\"Number found!\")\n",
    "    elif (phrase.count(\"7\"))>0:\n",
    "        print(\"Number found!\")\n",
    "    elif (phrase.count(\"8\"))>0:\n",
    "        print(\"Number found!\")\n",
    "    elif (phrase.count(\"9\"))>0:\n",
    "        print(\"Number found!\")\n",
    "    else:\n",
    "        print(\"Number not found!\")\n",
    "    return\n",
    "numberOrNot()"
   ]
  },
  {
   "cell_type": "code",
   "execution_count": 22,
   "metadata": {},
   "outputs": [
    {
     "name": "stdout",
     "output_type": "stream",
     "text": [
      "Enter a phrase:h3llo\n",
      "Number found!\n"
     ]
    }
   ],
   "source": [
    "#message.count(“to”) counts the # of times something occurs in string  \n",
    "def numberOrNot():\n",
    "    phrase=input(\"Enter a phrase:\")\n",
    "    if (phrase.count(\"0\"))>0:\n",
    "        print(\"Number found!\")\n",
    "    elif (phrase.count(\"1\"))>0:\n",
    "        print(\"Number found!\")\n",
    "    elif (phrase.count(\"2\"))>0:\n",
    "        print(\"Number found!\")\n",
    "    elif (phrase.count(\"3\"))>0:\n",
    "        print(\"Number found!\")\n",
    "    elif (phrase.count(\"4\"))>0:\n",
    "        print(\"Number found!\")\n",
    "    elif (phrase.count(\"5\"))>0:\n",
    "        print(\"Number found!\")\n",
    "    elif (phrase.count(\"6\"))>0:\n",
    "        print(\"Number found!\")\n",
    "    elif (phrase.count(\"7\"))>0:\n",
    "        print(\"Number found!\")\n",
    "    elif (phrase.count(\"8\"))>0:\n",
    "        print(\"Number found!\")\n",
    "    elif (phrase.count(\"9\"))>0:\n",
    "        print(\"Number found!\")\n",
    "    else:\n",
    "        print(\"Number not found!\")\n",
    "    return\n",
    "numberOrNot()"
   ]
  },
  {
   "cell_type": "code",
   "execution_count": 24,
   "metadata": {},
   "outputs": [
    {
     "name": "stdout",
     "output_type": "stream",
     "text": [
      "Enter a phrase:h3ll0\n",
      "Number found!\n"
     ]
    }
   ],
   "source": [
    "#message.count(“to”) counts the # of times something occurs in string  \n",
    "def numberOrNot():\n",
    "    phrase=input(\"Enter a phrase:\")\n",
    "    if (phrase.count(\"0\"))>0:\n",
    "        print(\"Number found!\")\n",
    "    elif (phrase.count(\"1\"))>0:\n",
    "        print(\"Number found!\")\n",
    "    elif (phrase.count(\"2\"))>0:\n",
    "        print(\"Number found!\")\n",
    "    elif (phrase.count(\"3\"))>0:\n",
    "        print(\"Number found!\")\n",
    "    elif (phrase.count(\"4\"))>0:\n",
    "        print(\"Number found!\")\n",
    "    elif (phrase.count(\"5\"))>0:\n",
    "        print(\"Number found!\")\n",
    "    elif (phrase.count(\"6\"))>0:\n",
    "        print(\"Number found!\")\n",
    "    elif (phrase.count(\"7\"))>0:\n",
    "        print(\"Number found!\")\n",
    "    elif (phrase.count(\"8\"))>0:\n",
    "        print(\"Number found!\")\n",
    "    elif (phrase.count(\"9\"))>0:\n",
    "        print(\"Number found!\")\n",
    "    else:\n",
    "        print(\"Number not found!\")\n",
    "    return\n",
    "numberOrNot()"
   ]
  },
  {
   "cell_type": "code",
   "execution_count": null,
   "metadata": {},
   "outputs": [],
   "source": []
  },
  {
   "cell_type": "markdown",
   "metadata": {},
   "source": [
    "### Exercise 4\n",
    "\n",
    "Ask a user to enter a number. Then, only if the number is divisible by 2 and 3, show the result of the number divided by two and three in a formated string. The output should look something like this:\n",
    "        \n",
    "    Enter a number: 2\n",
    "    Bye    \n",
    "    \n",
    "    Enter a number: 60\n",
    "    60 / 2 = 30.0\n",
    "    60 / 3 = 20.0\n",
    "    Bye\n",
    "    \n",
    "    Enter a number: 3\n",
    "    Bye\n",
    "    \n",
    "    Enter a number: 10\n",
    "    Bye    "
   ]
  },
  {
   "cell_type": "code",
   "execution_count": 28,
   "metadata": {},
   "outputs": [
    {
     "name": "stdout",
     "output_type": "stream",
     "text": [
      "Enter a number:60\n",
      "60 / 2 = 30.0\n",
      "60 / 3 = 20.0\n",
      "Bye\n"
     ]
    }
   ],
   "source": [
    "def twoThree():\n",
    "    num=int(input(\"Enter a number:\"))\n",
    "    num2=num/2\n",
    "    num3=num/3\n",
    "    if num%2==0 and num%3==0:\n",
    "        print(f\"{num} / 2 = {num2}\\n{num} / 3 = {num3}\")\n",
    "    print(\"Bye\")\n",
    "    return\n",
    "twoThree()"
   ]
  },
  {
   "cell_type": "code",
   "execution_count": 29,
   "metadata": {},
   "outputs": [
    {
     "name": "stdout",
     "output_type": "stream",
     "text": [
      "Enter a number:2\n",
      "Bye\n"
     ]
    }
   ],
   "source": [
    "def twoThree():\n",
    "    num=int(input(\"Enter a number:\"))\n",
    "    num2=num/2\n",
    "    num3=num/3\n",
    "    if num%2==0 and num%3==0:\n",
    "        print(f\"{num} / 2 = {num2}\\n{num} / 3 = {num3}\")\n",
    "    print(\"Bye\")\n",
    "    return\n",
    "twoThree()"
   ]
  },
  {
   "cell_type": "code",
   "execution_count": null,
   "metadata": {},
   "outputs": [],
   "source": []
  },
  {
   "cell_type": "markdown",
   "metadata": {},
   "source": [
    "### Exercise 5\n",
    "Ask a user to enter a number. Determine if the number is zero, positive or negative. Use only <b>if</b> and <b>else</b> statements. \n",
    "    "
   ]
  },
  {
   "cell_type": "code",
   "execution_count": 33,
   "metadata": {},
   "outputs": [
    {
     "name": "stdout",
     "output_type": "stream",
     "text": [
      "Enter a number. We will see if it is positive, negative, or zero.9\n",
      "Number is positive\n"
     ]
    }
   ],
   "source": [
    "def posNegO():\n",
    "    num=int(input(\"Enter a number. We will see if it is positive, negative, or zero.\"))\n",
    "    if num>0:\n",
    "        print(\"Number is positive\")\n",
    "    elif num==0:\n",
    "        print(\"Number is zero\")\n",
    "    elif num<0:\n",
    "        print(\"Number is negative\")\n",
    "    return\n",
    "posNegO()"
   ]
  },
  {
   "cell_type": "code",
   "execution_count": 34,
   "metadata": {},
   "outputs": [
    {
     "name": "stdout",
     "output_type": "stream",
     "text": [
      "Enter a number. We will see if it is positive, negative, or zero.0\n",
      "Number is zero\n"
     ]
    }
   ],
   "source": [
    "def posNegO():\n",
    "    num=int(input(\"Enter a number. We will see if it is positive, negative, or zero.\"))\n",
    "    if num>0:\n",
    "        print(\"Number is positive\")\n",
    "    elif num==0:\n",
    "        print(\"Number is zero\")\n",
    "    elif num<0:\n",
    "        print(\"Number is negative\")\n",
    "    return\n",
    "posNegO()"
   ]
  },
  {
   "cell_type": "code",
   "execution_count": 35,
   "metadata": {},
   "outputs": [
    {
     "name": "stdout",
     "output_type": "stream",
     "text": [
      "Enter a number. We will see if it is positive, negative, or zero.-9\n",
      "Number is negative\n"
     ]
    }
   ],
   "source": [
    "def posNegO():\n",
    "    num=int(input(\"Enter a number. We will see if it is positive, negative, or zero.\"))\n",
    "    if num>0:\n",
    "        print(\"Number is positive\")\n",
    "    elif num==0:\n",
    "        print(\"Number is zero\")\n",
    "    elif num<0:\n",
    "        print(\"Number is negative\")\n",
    "    return\n",
    "posNegO()"
   ]
  },
  {
   "cell_type": "code",
   "execution_count": null,
   "metadata": {},
   "outputs": [],
   "source": []
  }
 ],
 "metadata": {
  "kernelspec": {
   "display_name": "Python 3 (ipykernel)",
   "language": "python",
   "name": "python3"
  },
  "language_info": {
   "codemirror_mode": {
    "name": "ipython",
    "version": 3
   },
   "file_extension": ".py",
   "mimetype": "text/x-python",
   "name": "python",
   "nbconvert_exporter": "python",
   "pygments_lexer": "ipython3",
   "version": "3.9.7"
  }
 },
 "nbformat": 4,
 "nbformat_minor": 4
}
